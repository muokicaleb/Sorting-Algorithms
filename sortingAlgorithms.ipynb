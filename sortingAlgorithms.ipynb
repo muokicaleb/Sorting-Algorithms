{
 "cells": [
  {
   "cell_type": "markdown",
   "metadata": {},
   "source": [
    "# #Sorting Algorithms in Python.\n",
    "<p>We use sorting to arrange items in a certatin order. <br/>Our agenda is to learn:\n",
    "<ol><li>Selection sort</li>\n",
    "    <li>Bubble-sort</li>\n",
    "    <li>Merge-sort</li>\n",
    "    <li>Insertion-sort</li>\n",
    "</ol>\n",
    "</p>\n",
    "<h3> Selection Sort </h3>\n",
    "<p>We find the smallest element in the list. If this element is smaller than a[i] we exchange it with a[[i<p>"
   ]
  },
  {
   "cell_type": "code",
   "execution_count": 1,
   "metadata": {},
   "outputs": [
    {
     "name": "stdout",
     "output_type": "stream",
     "text": [
      "[1, 2, 3, 4, 5, 6, 7, 8, 9]\n"
     ]
    }
   ],
   "source": [
    "def selectionSort(a):\n",
    "    for i in range(len(a)):\n",
    "        minposition = i\n",
    "        for j in range (i+1, len(a)):\n",
    "            if a[minposition] > a[j]:\n",
    "                minposition = j\n",
    "        \n",
    "        a[i], a[minposition] = a[minposition],a[i]        \n",
    "    return a\n",
    "\n",
    "# test list\n",
    "unsortedList = [3,2,5,8,9,1,4,7,6]\n",
    "print(selectionSort(unsortedList))\n"
   ]
  },
  {
   "cell_type": "markdown",
   "metadata": {},
   "source": [
    "<h3>Insertion Sort</h3>\n",
    "<p>\n",
    "look ar one element after the other and insert it into the part of the list already dealt with at the correct position.\n",
    "</p>"
   ]
  },
  {
   "cell_type": "code",
   "execution_count": 2,
   "metadata": {},
   "outputs": [
    {
     "name": "stdout",
     "output_type": "stream",
     "text": [
      "[1, 2, 3, 4, 5, 6, 7, 8, 9]\n"
     ]
    }
   ],
   "source": [
    "def insertionSort(a):\n",
    "    for i in range(1, len(a)):\n",
    "        #remember value of a{i}\n",
    "        value = a[i]\n",
    "        j = i\n",
    "        \n",
    "        \"\"\"Go back in list and shift to\n",
    "        the right if element > value to be inserted\"\"\"\n",
    "        \n",
    "        while a[j-1] >value and j >=1:\n",
    "            a[j] = a [j-1]\n",
    "            j-=1\n",
    "            # inset the value in its correct position\n",
    "            a[j] = value\n",
    "    return a\n",
    "\n",
    "# test list\n",
    "unsortedList = [3,2,5,8,9,1,4,7,6]\n",
    "print(insertionSort(unsortedList))\n",
    "\n",
    "            "
   ]
  },
  {
   "cell_type": "markdown",
   "metadata": {},
   "source": [
    "<h3>Bubble Sort</h3>\n",
    "<p>Bubble sort compares each successive pair of elements in an unordered list and inverts the element if they are not in order</p>"
   ]
  },
  {
   "cell_type": "code",
   "execution_count": 3,
   "metadata": {},
   "outputs": [
    {
     "name": "stdout",
     "output_type": "stream",
     "text": [
      "[1, 2, 3, 4, 5, 6, 7, 8, 9]\n"
     ]
    }
   ],
   "source": [
    "def bubbleSort(a):\n",
    "    n = len(a)\n",
    "    for i in range(n):\n",
    "        for j in range(0,n-i-1):\n",
    "            if a[j] > a[j+1]:\n",
    "                a[j] , a[j+1] = a [j+1], a[j]\n",
    "            #print(a)\n",
    "    return a\n",
    "\n",
    "# test list\n",
    "unsortedList = [3,2,5,8,9,1,4,7,6]\n",
    "print(bubbleSort(unsortedList))\n"
   ]
  },
  {
   "cell_type": "markdown",
   "metadata": {},
   "source": [
    "<h3>Merge sort</h3>\n",
    "<p>It divides the input list of length n in half successively until there are\n",
    "n lists of size 1. Then, pairs of lists are merged together with the smaller first element among the pair of lists being\n",
    "added in each step. Through successive merging and through comparison of first elements, the sorted list is built.</p>"
   ]
  },
  {
   "cell_type": "code",
   "execution_count": 4,
   "metadata": {},
   "outputs": [
    {
     "name": "stdout",
     "output_type": "stream",
     "text": [
      "[1, 2, 3, 4, 5, 6, 7, 8, 9]\n"
     ]
    }
   ],
   "source": [
    "\n",
    "def merge(X, Y):\n",
    "    p1 = p2 = 0\n",
    "    out = []\n",
    "    while p1 < len(X) and p2 < len(Y):\n",
    "        if X[p1] < Y[p2]:\n",
    "            out.append(X[p1])\n",
    "            p1 += 1\n",
    "        else:\n",
    "            out.append(Y[p2])\n",
    "            p2 += 1\n",
    "    out += X[p1:] + Y[p2:]\n",
    "    return out\n",
    "\n",
    "def mergeSort(A):\n",
    "    if len(A) <= 1:\n",
    "        return A\n",
    "    if len(A) == 2:\n",
    "        return sorted(A)\n",
    "    \n",
    "    mid = len(A) / 2\n",
    "    return merge(mergeSort(A[:mid]), mergeSort(A[mid:]))\n",
    "\n",
    "if __name__ == \"__main__\":\n",
    "    A = [3,2,5,8,9,1,4,7,6]\n",
    "    print mergeSort(A)"
   ]
  },
  {
   "cell_type": "code",
   "execution_count": null,
   "metadata": {},
   "outputs": [],
   "source": []
  }
 ],
 "metadata": {
  "kernelspec": {
   "display_name": "Python 3",
   "language": "python",
   "name": "python3"
  },
  "language_info": {
   "codemirror_mode": {
    "name": "ipython",
    "version": 2
   },
   "file_extension": ".py",
   "mimetype": "text/x-python",
   "name": "python",
   "nbconvert_exporter": "python",
   "pygments_lexer": "ipython2",
   "version": "2.7.14"
  }
 },
 "nbformat": 4,
 "nbformat_minor": 2
}
