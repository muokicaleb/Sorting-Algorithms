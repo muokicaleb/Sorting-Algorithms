{
 "cells": [
  {
   "cell_type": "markdown",
   "metadata": {},
   "source": [
    "# #Sorting Algorithms in Python.\n",
    "<p>We use sorting to arrange items in a certatin order. <br/>Our agenda is to learn:\n",
    "<ol><li>Selection sort</li>\n",
    "    <li>Bubble-sort</li>\n",
    "    <li>Merge-sort</li>\n",
    "    <li>Quick-sort</li>\n",
    "    <li>Insertion-sort</li>\n",
    "</ol>\n",
    "</p>\n",
    "<h3> Selection Sort </h3>\n",
    "<p>We find the smallest element in the list. If this element is smaller than a[i] we exchange it with a[[i<p>"
   ]
  },
  {
   "cell_type": "code",
   "execution_count": 2,
   "metadata": {},
   "outputs": [
    {
     "name": "stdout",
     "output_type": "stream",
     "text": [
      "[1, 2, 3, 4, 5, 6, 7, 8, 9]\n"
     ]
    }
   ],
   "source": [
    "def selectionSort(a):\n",
    "    for i in range(len(a)):\n",
    "        minposition = i\n",
    "        for j in range (i+1, len(a)):\n",
    "            if a[minposition] > a[j]:\n",
    "                minposition = j\n",
    "        \n",
    "        a[i], a[minposition] = a[minposition],a[i]        \n",
    "    return a\n",
    "\n",
    "# test list\n",
    "unsortedList = [3,2,5,8,9,1,4,7,6]\n",
    "print(selectionSort(unsortedList))\n"
   ]
  },
  {
   "cell_type": "code",
   "execution_count": null,
   "metadata": {},
   "outputs": [],
   "source": []
  },
  {
   "cell_type": "code",
   "execution_count": null,
   "metadata": {},
   "outputs": [],
   "source": []
  }
 ],
 "metadata": {
  "kernelspec": {
   "display_name": "Python 3",
   "language": "python",
   "name": "python3"
  },
  "language_info": {
   "codemirror_mode": {
    "name": "ipython",
    "version": 2
   },
   "file_extension": ".py",
   "mimetype": "text/x-python",
   "name": "python",
   "nbconvert_exporter": "python",
   "pygments_lexer": "ipython2",
   "version": "2.7.14"
  }
 },
 "nbformat": 4,
 "nbformat_minor": 2
}
